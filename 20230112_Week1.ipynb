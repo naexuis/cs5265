{
  "nbformat": 4,
  "nbformat_minor": 0,
  "metadata": {
    "colab": {
      "provenance": [],
      "authorship_tag": "ABX9TyN8Z24+AfAaNeFZoeA1/+jD",
      "include_colab_link": true
    },
    "kernelspec": {
      "name": "python3",
      "display_name": "Python 3"
    },
    "language_info": {
      "name": "python"
    }
  },
  "cells": [
    {
      "cell_type": "markdown",
      "metadata": {
        "id": "view-in-github",
        "colab_type": "text"
      },
      "source": [
        "<a href=\"https://colab.research.google.com/github/naexuis/cs5265/blob/main/20230112_Week1.ipynb\" target=\"_parent\"><img src=\"https://colab.research.google.com/assets/colab-badge.svg\" alt=\"Open In Colab\"/></a>"
      ]
    },
    {
      "cell_type": "markdown",
      "source": [
        "# CS 5265 Foundations of Machine Learning\n",
        "\n",
        "**Week 1 Assignment**\n",
        "\n",
        "Marcus Hilliard\n",
        "\n",
        "January 18, 2023"
      ],
      "metadata": {
        "id": "bxhknwyXFgIa"
      }
    },
    {
      "cell_type": "markdown",
      "source": [
        "## Background"
      ],
      "metadata": {
        "id": "kpQEqbMUF9P9"
      }
    },
    {
      "cell_type": "markdown",
      "source": [
        "In this assignment, we were asked to examine the default of credit card customers dataset from the UCI Machine Learning Repository. The raw dataset will be cleaned, validated, and then additional predictor variables will be engineered by discretizing some of the continuous variables and by combining variables into new summary statistics. The feature dataset will then used with several algorithms to determine the best predictor model. The models will then be evaluated and the best model will be selected for implementation in a production environment."
      ],
      "metadata": {
        "id": "0HGa_rDbr6VO"
      }
    },
    {
      "cell_type": "markdown",
      "source": [
        "## Project Description"
      ],
      "metadata": {
        "id": "UlNZr7MgGIZv"
      }
    },
    {
      "cell_type": "markdown",
      "source": [
        "The Default of Credit Card Customer (DC3) data set, accessed from the UCI Machine Learning Repository, was retrieved in January, 2023. The data consists of 30,000 observations on 24 predictor variables and a single binary response variable of payment default of credit card customers in Taiwan from April, 2005 to September, 2005. Default indicates whether the customer failed to repay a debt (e.g., 1, yes; 0, no). A default can occur when a customer is unable to make timely payments, misses payments, or avoids or stops making payments. The variable names and their definitions are listed in Table 1 below."
      ],
      "metadata": {
        "id": "db7YYTeFGKK0"
      }
    },
    {
      "cell_type": "markdown",
      "source": [
        "| Variable     | Definition |\n",
        "|--------------|------------|\n",
        "|ID            | Customer ID number |\n",
        "|Balance Limit | Amount of credit given to the customer (TWD)|\n",
        "|Sex | Customer's gender – 1: male; 2: female|\n",
        "|Education | Education level – 1: graduate; 2: undergrad; 3: high school; 4: other|\n",
        "|Marriage | Customer's marital status – 1: married; 2: single; 3: other|\n",
        "|Age | Customer's age in years|\n",
        "|Pay | History of past payments in month i – -1: pay duly; 1: payment delay by 1 month; 2: payment delay by 2 months; ...; 9: payment delay by > 9 months.|\n",
        "|Bill_Amt | Bill statement amount due (TWD) in month i|\n",
        "|Pay_Amt | Amount of previous payment (TWD) in month i|\n",
        "|Default| Did the customer default on payment? – 0: no; 1: yes|"
      ],
      "metadata": {
        "id": "hD5yGKHQGVxA"
      }
    },
    {
      "cell_type": "markdown",
      "source": [
        "## Performance Metrics\n",
        "\n",
        "To evaluate model performance in each experiment, we will focus on the predictive balance accuracy. Balance accuracy can bet determined from the following equation:\n",
        "\n",
        "$Balance Accuracy = \\frac{Sensitivity + Specificity}{2}$\n",
        "\n",
        "where $Sensitivity$ is the true positive rate, $Specificity$ is the true negative rate. Sensitivity or the True Positive Rate (TPR) is the percentage of true positive cases per total number of positive cases (i.e. true positive and false positive). \n",
        "\n",
        "$Sensitivity = \\frac{TP}{TP + FP}$\n",
        "\n",
        "Specificity or the True Negatie Rate (TNR) is the percentage of true negative cases per total number of negative cases (i.e. true negative and false negative).\n",
        "\n",
        "$Specificity = \\frac{TN}{TN + FN}$"
      ],
      "metadata": {
        "id": "3bNe94tDIwfE"
      }
    },
    {
      "cell_type": "code",
      "execution_count": null,
      "metadata": {
        "id": "UqE9Xr0UFFVL"
      },
      "outputs": [],
      "source": []
    }
  ]
}